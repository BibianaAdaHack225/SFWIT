{
  "nbformat": 4,
  "nbformat_minor": 0,
  "metadata": {
    "colab": {
      "name": "Ejercicios Python-Bibiana",
      "provenance": [],
      "collapsed_sections": []
    },
    "kernelspec": {
      "name": "python3",
      "display_name": "Python 3"
    }
  },
  "cells": [
    {
      "cell_type": "markdown",
      "metadata": {
        "id": "OpSHrtcJLQEU"
      },
      "source": [
        "# Introducción a Python\n",
        "\n",
        "A lo largo de este cuaderno explicaremos algunos conceptos básicos de Python. Los temas específicos que cubriremos en estos cuadernos introductorios son los siguientes:\n",
        "\n",
        "1. ¿Qué es Python?\n",
        "2. Objetos avanzados: _Listas_ y _diccionarios_\n",
        "3. Empaquetando código - _Funciones_\n",
        "\n",
        "### Planteamiento del problema:\n",
        "\n",
        "Imagina que queremos crear un directorio que contenga toda la información de los estudiantes de nuestro club. Para ello, necesitaremos construir paso a paso la idea completa del proyecto.\n",
        "\n",
        "Para ello, necesitamos saber sobre tipos de variables, objetos avanzados como listas y diccionarios, cómo crear funciones para operar algunos valores y cómo crear nuevos objetos.\n",
        "\n",
        "\n",
        "## ¿Qué es Python?\n",
        "\n",
        "<center>\n",
        "    <img width=\"50%\" src=\"https://www.python.org/static/community_logos/python-logo-generic.svg\">\n",
        "</center>\n",
        "\n",
        "Python es un lenguaje de programación **interpretado**, lo que significa que un _interpretador_ ejecuta y ejecuta su código línea por línea en lugar de compilarlo. Python tiene una sintaxis elegante que te obliga a **aplicar sangría a tu código para construir bloques de código**, por lo que Python no usa `{}` para bloques de código. No es común usar punto y coma en Python (`;`) al final de cualquier oración. Otra cosa interesante de Python es que no necesita declarar variables, solo las define, y sucede que Python **se escribe dinámicamente**.\n",
        "\n",
        "### Hola mundo en Python\n",
        "\n",
        "Usaremos las funciones de entrada y salida de Python para crear nuestro primer hola mundo.\n",
        "\n",
        "Solo necesita ejecutar la siguiente celda con código presionando el botón _play_ o presionando `Shift + Enter` en su teclado."
      ]
    },
    {
      "cell_type": "markdown",
      "metadata": {
        "id": "RSJW87sPXOAh"
      },
      "source": [
        "## Variables\n",
        "\n",
        "Python tiene varios tipos de variables de forma nativa. Comenzando con variables numéricas, Python puede trabajar con números enteros, números flotantes y números complejos. También cuenta con cadenas de caracteres para trabajar con texto y otro tipo de variables llamadas booleanos para guardar valores binarios.\n",
        "\n",
        "La forma en que declaramos las variables es la siguiente:\n",
        "\n",
        "```python\n",
        "variable_name = <value>\n",
        "```\n",
        "\n",
        "El nombre de una variable no puede tener espacios, debe comenzar con una letra, puede contener letras mayúsculas o números dentro del nombre.\n",
        "\n",
        "#### Ejemplo:\n",
        "\n",
        "```python\n",
        "my_dog = \"Mirlo\"\n",
        "```\n",
        "\n",
        "Para obtener el tipo de una variable, podemos usar la función `type ()` y pasar como parámetro la variable que queremos conocer.\n",
        "\n",
        "#### Ejemplo:\n",
        "\n",
        "```python\n",
        "type(my_dog)\n",
        "```"
      ]
    },
    {
      "cell_type": "markdown",
      "metadata": {
        "id": "nlMAcIGEYIef"
      },
      "source": [
        "Hay varios tipos de variables, ¡incluso números complejos en Python!\n",
        "\n",
        "#### Ejercicio:\n",
        "\n",
        "Define e imprime el tipo y valor de las variables denominadas:\n",
        "- `name`, debe ser un` <str> `que contenga cualquier nombre\n",
        "- `age`, debe ser un` <int> `que contenga cualquier edad\n",
        "- `pi`, debe ser un` <float> `que contenga su mejor aproximación a pi\n",
        "- `modulus_one`, debe ser un `<complex>`que tiene [módulo](https://en.wikipedia.org/wiki/Absolute_value#Complex_numbers) uno"
      ]
    },
    {
      "cell_type": "markdown",
      "metadata": {
        "id": "U_cKNLU3YnP8"
      },
      "source": [
        "## Control de flujo (condicionales)\n",
        "\n",
        "Hasta ahora, sabemos cómo definir variables, por lo que podemos crear bloques de código un poco más avanzados. Lo primero que queremos hacer es crear una nueva variable llamada `under_age` y necesitaremos definirla usando una declaración contitional. Para ello, será útil recordar los operadores de comparación (`<, >, <=, >=, ==, !=`).\n",
        "\n",
        "La idea es la siguiente, si la persona es menor de edad, el valor de esta variable será \"Verdadero\" y será \"Falso\" en el otro caso.\n",
        "\n",
        "Para declarar una declaración condicional, se usa la siguiente sintaxis:\n",
        "\n",
        "```python\n",
        "if condition:\n",
        "    # Block of code for a satisfied condition \n",
        "else:\n",
        "    # Block of code for a non-satisfied condition \n",
        "```\n",
        "\n",
        "#### Ejemplo:\n"
      ]
    },
    {
      "cell_type": "code",
      "metadata": {
        "id": "9oJook66anxJ"
      },
      "source": [
        "dog_color = \"black\"\n",
        "if color == \"black\":\n",
        "    print(\"Indeed, this dog is black.\")\n",
        "else:\n",
        "    print(\"Nope, it is not a black dog.\")"
      ],
      "execution_count": null,
      "outputs": []
    },
    {
      "cell_type": "markdown",
      "metadata": {
        "id": "hkoa6UOarhBD"
      },
      "source": [
        "## Bucles (ciclos)\n",
        "\n",
        "**Iteración** significa ejecutar el mismo bloque de código una y otra vez, potencialmente muchas veces. Una estructura de programación que implementa la iteración se llama **bucle** (o **ciclo**).\n",
        "\n",
        "Hay dos tipos de iteración:\n",
        "- **Iteración definida**, en la que el número de repeticiones se especifica explícitamente de antemano\n",
        "- **Iteración indefinida**, en la que el bloque de código se ejecuta hasta que se cumple alguna condición\n",
        "\n",
        "En Python, la iteración indefinida se realiza con un ciclo `while` y la iteración definida se realiza con un ciclo `for`.\n",
        "\n",
        "### Ciclo `while`\n",
        "\n",
        "Para un ciclo `while` será importante **establecer una condición de parada**. El formato de un ciclo `while` se muestra a continuación:\n",
        "\n",
        "```python\n",
        "while condition:\n",
        "    # Code goes ehre!\n",
        "```\n",
        "\n",
        "#### Ejemplo:\n"
      ]
    },
    {
      "cell_type": "code",
      "metadata": {
        "id": "SSnssdYwqI_G"
      },
      "source": [
        "n_interation = 1\n",
        "\n",
        "while n_iteration <= 10:\n",
        "    print(f\"Iteration {n_iteration}.\")"
      ],
      "execution_count": null,
      "outputs": []
    },
    {
      "cell_type": "markdown",
      "metadata": {
        "id": "xJFl2lQ1qJak"
      },
      "source": [
        "### Ciclo `for`\n",
        "\n",
        "Python tiene un **ciclo basado en colecciones** o **ciclo basado en iteradores**. Este tipo de bucle itera sobre una colección de objetos, en lugar de especificar valores numéricos o condiciones:\n",
        "\n",
        "```python\n",
        "for i in <collection>:\n",
        "    <loop body>\n",
        "```\n",
        "\n",
        "#### Ejemplo:\n",
        "\n",
        "Podemos iterar a través de los elementos de una lista:\n"
      ]
    },
    {
      "cell_type": "code",
      "metadata": {
        "id": "RFk0YLulqOQW",
        "colab": {
          "base_uri": "https://localhost:8080/"
        },
        "outputId": "1d737328-d617-4ee4-df05-10a4ff6b500b"
      },
      "source": [
        "months = [\n",
        "    'January',\n",
        "    'February',\n",
        "    'March',\n",
        "    'April',\n",
        "    'May',\n",
        "    'June',\n",
        "    'July',\n",
        "    'August',\n",
        "    'September',\n",
        "    'October',\n",
        "    'November',\n",
        "    'December',\n",
        "]\n",
        "\n",
        "for month in months:\n",
        "    print(f\"The current month is {month}.\")"
      ],
      "execution_count": 28,
      "outputs": [
        {
          "output_type": "stream",
          "name": "stdout",
          "text": [
            "The current month is January.\n",
            "The current month is February.\n",
            "The current month is March.\n",
            "The current month is April.\n",
            "The current month is May.\n",
            "The current month is June.\n",
            "The current month is July.\n",
            "The current month is August.\n",
            "The current month is September.\n",
            "The current month is October.\n",
            "The current month is November.\n",
            "The current month is December.\n"
          ]
        }
      ]
    },
    {
      "cell_type": "markdown",
      "metadata": {
        "id": "OHMgj3aavIqc"
      },
      "source": [
        "O iterar solo a través de un rango de números:"
      ]
    },
    {
      "cell_type": "code",
      "metadata": {
        "id": "nevHbKcsvIBa",
        "colab": {
          "base_uri": "https://localhost:8080/"
        },
        "outputId": "90ec8dd7-6169-4043-c66d-1f79cd568d14"
      },
      "source": [
        "for number in range(10):\n",
        "    print(f\"The current number is {number}.\")"
      ],
      "execution_count": 30,
      "outputs": [
        {
          "output_type": "stream",
          "name": "stdout",
          "text": [
            "The current number is 0.\n",
            "The current number is 1.\n",
            "The current number is 2.\n",
            "The current number is 3.\n",
            "The current number is 4.\n",
            "The current number is 5.\n",
            "The current number is 6.\n",
            "The current number is 7.\n",
            "The current number is 8.\n",
            "The current number is 9.\n"
          ]
        }
      ]
    },
    {
      "cell_type": "markdown",
      "metadata": {
        "id": "7Ko9pJ0_vrnb"
      },
      "source": [
        "**Nota:** *¿Todo esto aplica para las tuplas?*\n"
      ]
    },
    {
      "cell_type": "markdown",
      "metadata": {
        "id": "DZOOUM4jrn5O"
      },
      "source": [
        "## Diccionarios\n",
        "\n",
        "Python proporciona otro tipo de datos compuestos llamado **diccionario**, que es similar a una lista en que es una colección de objetos.\n",
        "\n",
        "Los diccionarios son diferentes de las listas principalmente por cómo acceder a sus elementos:\n",
        "\n",
        "- Se accede a los elementos de la lista por su posición en la lista, mediante indexación.\n",
        "- Se accede a los elementos del diccionario mediante llaves o claves (pares clave-valor)."
      ]
    },
    {
      "cell_type": "code",
      "metadata": {
        "id": "FNo_LTSuzEvk"
      },
      "source": [
        "student = {\n",
        "    \"name\": \"Jesús López\",\n",
        "    \"email\": \"algo@gmail.com\"\n",
        "}"
      ],
      "execution_count": 31,
      "outputs": []
    },
    {
      "cell_type": "code",
      "source": [
        "student ['email']"
      ],
      "metadata": {
        "id": "SQor4A8H8ho1",
        "colab": {
          "base_uri": "https://localhost:8080/",
          "height": 35
        },
        "outputId": "99fd1219-bd1d-432a-ef96-9eb616f13167"
      },
      "execution_count": 32,
      "outputs": [
        {
          "output_type": "execute_result",
          "data": {
            "text/plain": [
              "'algo@gmail.com'"
            ],
            "application/vnd.google.colaboratory.intrinsic+json": {
              "type": "string"
            }
          },
          "metadata": {},
          "execution_count": 32
        }
      ]
    },
    {
      "cell_type": "code",
      "source": [
        "student ['age']=23"
      ],
      "metadata": {
        "id": "HHRC0apZ-PJR"
      },
      "execution_count": 33,
      "outputs": []
    },
    {
      "cell_type": "code",
      "source": [
        "print (student)"
      ],
      "metadata": {
        "colab": {
          "base_uri": "https://localhost:8080/"
        },
        "id": "EmA_OEXP-U-f",
        "outputId": "4d594b69-1c56-46f8-fc8e-0061329e11da"
      },
      "execution_count": 34,
      "outputs": [
        {
          "output_type": "stream",
          "name": "stdout",
          "text": [
            "{'name': 'Jesús López', 'email': 'algo@gmail.com', 'age': 23}\n"
          ]
        }
      ]
    },
    {
      "cell_type": "code",
      "source": [
        "student.keys()"
      ],
      "metadata": {
        "colab": {
          "base_uri": "https://localhost:8080/"
        },
        "id": "5fPYAJT8_UoB",
        "outputId": "07b6ea49-439a-46e2-e485-7ec9aec8b74c"
      },
      "execution_count": 35,
      "outputs": [
        {
          "output_type": "execute_result",
          "data": {
            "text/plain": [
              "dict_keys(['name', 'email', 'age'])"
            ]
          },
          "metadata": {},
          "execution_count": 35
        }
      ]
    },
    {
      "cell_type": "code",
      "source": [
        "for key in student.keys():\n",
        "  print (student[key])"
      ],
      "metadata": {
        "colab": {
          "base_uri": "https://localhost:8080/"
        },
        "id": "QTvaIh3p_ZZd",
        "outputId": "9e5f7b24-47ee-424d-a6af-b4f6ca172a79"
      },
      "execution_count": 36,
      "outputs": [
        {
          "output_type": "stream",
          "name": "stdout",
          "text": [
            "Jesús López\n",
            "algo@gmail.com\n",
            "23\n"
          ]
        }
      ]
    },
    {
      "cell_type": "code",
      "source": [
        "student.values()"
      ],
      "metadata": {
        "colab": {
          "base_uri": "https://localhost:8080/"
        },
        "id": "qGfQVpg9_tax",
        "outputId": "5da37c51-0f2c-419a-e276-3451fabb9194"
      },
      "execution_count": 37,
      "outputs": [
        {
          "output_type": "execute_result",
          "data": {
            "text/plain": [
              "dict_values(['Jesús López', 'algo@gmail.com', 23])"
            ]
          },
          "metadata": {},
          "execution_count": 37
        }
      ]
    },
    {
      "cell_type": "code",
      "source": [
        "student.items()"
      ],
      "metadata": {
        "colab": {
          "base_uri": "https://localhost:8080/"
        },
        "id": "RsCYafa2_xJz",
        "outputId": "ff7c5cc5-94fc-4f63-d8ab-93617923289b"
      },
      "execution_count": 38,
      "outputs": [
        {
          "output_type": "execute_result",
          "data": {
            "text/plain": [
              "dict_items([('name', 'Jesús López'), ('email', 'algo@gmail.com'), ('age', 23)])"
            ]
          },
          "metadata": {},
          "execution_count": 38
        }
      ]
    },
    {
      "cell_type": "code",
      "source": [
        "for key, value in student.items():\n",
        "  print(key, value)"
      ],
      "metadata": {
        "colab": {
          "base_uri": "https://localhost:8080/"
        },
        "id": "Ny80obA9_3nP",
        "outputId": "ff76da7b-b87a-4fc2-ed5f-e6213f50e50f"
      },
      "execution_count": 39,
      "outputs": [
        {
          "output_type": "stream",
          "name": "stdout",
          "text": [
            "name Jesús López\n",
            "email algo@gmail.com\n",
            "age 23\n"
          ]
        }
      ]
    },
    {
      "cell_type": "markdown",
      "source": [
        "#Hack Women"
      ],
      "metadata": {
        "id": "zXlB7OlK8jXO"
      }
    },
    {
      "cell_type": "markdown",
      "metadata": {
        "id": "i6I0b2UkzcJb"
      },
      "source": [
        "## Funciones\n",
        "\n",
        "Las funciones nos permitirán empaquetar código que puede ser invocado a través de una línea con el nombre de la función.\n",
        "\n",
        "La estructura básica de una función es como sigue:\n",
        "\n",
        "```python\n",
        "def name_of_function(arguments):\n",
        "    # Code of the function\n",
        "\n",
        "    return something\n",
        "```\n",
        "\n",
        "La nomenclatura de las funciones es consistente con la de las variables."
      ]
    },
    {
      "cell_type": "code",
      "metadata": {
        "id": "PZTz7Shhrs1M"
      },
      "source": [
        "# Implement the 2nd of the Newton's laws of motion\n",
        "def F(m, a):\n",
        "  fuerza=m*a\n",
        "  return fuerza\n"
      ],
      "execution_count": 40,
      "outputs": []
    },
    {
      "cell_type": "code",
      "source": [
        "print(f\"{F(60, 9.8)} N (Newton)\")"
      ],
      "metadata": {
        "colab": {
          "base_uri": "https://localhost:8080/"
        },
        "id": "At7syk2rBEaJ",
        "outputId": "cee68357-5c77-4089-e4eb-55a0e52fe8cc"
      },
      "execution_count": 41,
      "outputs": [
        {
          "output_type": "stream",
          "name": "stdout",
          "text": [
            "588.0 N (Newton)\n"
          ]
        }
      ]
    },
    {
      "cell_type": "markdown",
      "source": [
        "#Ejemplo 1\n",
        "-  Procedimiento CalcularMaxMin: recibe una lista de enteros  y devuelve\n",
        "el máximo y el mínimo de los números guardados en el vector.\n",
        "Parámetros de entrada: lista de enteros\n",
        "Valores de salida: valor máximo y mínimo"
      ],
      "metadata": {
        "id": "w6i3aF0EzsbT"
      }
    },
    {
      "cell_type": "code",
      "source": [
        "# Ejemplo 1\n",
        "import random\n",
        "\n",
        "def CalcularMaxMin(lista):\n",
        "\treturn (max(lista), min(lista))\n",
        " \n",
        "numeros = []\n",
        "\n",
        "for i in range(10):\n",
        "\tnumeros.append(random.randint(1,101))\n",
        "vmax, vmin = CalcularMaxMin(numeros)\n",
        "print(\"El valor máximo es: \", vmax)\n",
        "print(\"El valor minimo es: \", vmin)"
      ],
      "metadata": {
        "colab": {
          "base_uri": "https://localhost:8080/"
        },
        "id": "tCSAkbuoE7uq",
        "outputId": "38a040d9-1d44-4608-cb39-ac535a63437e"
      },
      "execution_count": 42,
      "outputs": [
        {
          "output_type": "stream",
          "name": "stdout",
          "text": [
            "El valor máximo es:  85\n",
            "El valor minimo es:  1\n"
          ]
        }
      ]
    },
    {
      "cell_type": "code",
      "source": [
        "\n",
        "lista=[]\n",
        "for x in range(5):\n",
        "    valor=int(input(\"Ingrese valor:\"))\n",
        "    lista.append(valor)\n",
        "\n",
        "mayor=lista[0]\n",
        "for x in range(1,5):\n",
        "    if lista[x]>mayor:\n",
        "        mayor=lista[x]\n",
        "\n",
        "print(\"Lista completa\")\n",
        "print(lista)\n",
        "print(\"Mayor de la lista\")\n",
        "print(mayor)\n"
      ],
      "metadata": {
        "id": "erZUUm7pw7qc",
        "colab": {
          "base_uri": "https://localhost:8080/"
        },
        "outputId": "5ba8d54c-e336-43d4-fd30-6b59f962d4d9"
      },
      "execution_count": 43,
      "outputs": [
        {
          "output_type": "stream",
          "name": "stdout",
          "text": [
            "Ingrese valor:8\n",
            "Ingrese valor:20\n",
            "Ingrese valor:60\n",
            "Ingrese valor:100\n",
            "Ingrese valor:50\n",
            "Lista completa\n",
            "[8, 20, 60, 100, 50]\n",
            "Mayor de la lista\n",
            "100\n"
          ]
        }
      ]
    },
    {
      "cell_type": "markdown",
      "source": [
        "#Ejemplo 2\n",
        "\n",
        "- Función CalcularAreaPerimetro: recibe el radio de una circunferencia y\n",
        "devuelve el área y el perímetro.\n",
        "Parámetros de entrada: radio (real)\n",
        "Valores de salida: área y perímetro (real)"
      ],
      "metadata": {
        "id": "xKZM-l4F0AEr"
      }
    },
    {
      "cell_type": "code",
      "source": [
        "# Ejemplo 2\n",
        "import math\n",
        "\n",
        "def CalcularAreaPerimetro(radio):\n",
        "\tarea = math.pi * radio ** 2\n",
        "\tperimetro = 2 * math.pi * radio\n",
        "\treturn area, perimetro\n",
        "\n",
        "radio = float(input(\"Introduce el radio: \"))\n",
        "area, perimetro = CalcularAreaPerimetro(radio)\n",
        "print(\"Area: \",area)\n",
        "print(\"Perimetro: \",perimetro)\n"
      ],
      "metadata": {
        "id": "jnCZxGp0wecv",
        "colab": {
          "base_uri": "https://localhost:8080/"
        },
        "outputId": "bfbe8142-bf4e-4fd1-ca88-9503578e2768"
      },
      "execution_count": 44,
      "outputs": [
        {
          "output_type": "stream",
          "name": "stdout",
          "text": [
            "Introduce el radio: 3\n",
            "Area:  28.274333882308138\n",
            "Perimetro:  18.84955592153876\n"
          ]
        }
      ]
    },
    {
      "cell_type": "markdown",
      "source": [
        "# Ejemplo 3\n",
        "\n",
        "- Función centrar: Recibe una cadena y la imprime centrada en la pantalla."
      ],
      "metadata": {
        "id": "u0XxKuyQ0Qeg"
      }
    },
    {
      "cell_type": "code",
      "source": [
        "#Ejemplo 3\n",
        "\n",
        "def centrar(cad):\n",
        "  \n",
        "  print(\" \" * int(40 - (len(cad)/2)), cad)\n",
        "  print(\" \" * int(40 - (len(cad)/2)), \"=\" * len(cad))\n",
        "\n",
        "\n",
        "mensaje1 = \"HackWomen\"\n",
        "centrar(mensaje1)\n",
        "mensaje2 = \"SKILLS FOR WOMEN IN TECH\"\n",
        "centrar (mensaje2)\n"
      ],
      "metadata": {
        "id": "iDD9RDGNtrGk",
        "colab": {
          "base_uri": "https://localhost:8080/"
        },
        "outputId": "eaa10e7c-a5b4-4ea2-aa33-3ef342857788"
      },
      "execution_count": 45,
      "outputs": [
        {
          "output_type": "stream",
          "name": "stdout",
          "text": [
            "                                    HackWomen\n",
            "                                    =========\n",
            "                             SKILLS FOR WOMEN IN TECH\n",
            "                             ========================\n"
          ]
        }
      ]
    },
    {
      "cell_type": "markdown",
      "source": [
        "# Ejemplo 4\n",
        "\n",
        "- Función Convertir a  segundos: Recibe una cantidad de horas, minutos y segundos y calcula a cuantos segundos corresponde."
      ],
      "metadata": {
        "id": "qqg4K8rc0gjL"
      }
    },
    {
      "cell_type": "code",
      "source": [
        "# Ejemplo 4\n",
        "\n",
        "from sys import exc_info\n",
        "# Ejemplo 4\n",
        "\n",
        "def Convertir_A_Segundos(h, m, s):\n",
        "  return h * 3600 + m * 60 + s\n",
        "\n",
        "def Covertir_A_HMS(seg):\n",
        "   h = seg//3600\n",
        "   seg = seg - h*3600\n",
        "   m = seg//60\n",
        "   seg = seg - m*60\n",
        "   s = seg\n",
        "   return h,m,s\n",
        "\n",
        "while True:\n",
        "  print(\"1. Convertir a segundos\")\n",
        "  print(\"2. Convertir a horas, minutos y segundos\")\n",
        "  print(\"3. Salir\")\n",
        "\n",
        "  opcion = int(input()) \n",
        "  if opcion == 1:\n",
        "    hor = int(input(\"Horas:\"))\n",
        "    minu = int(input(\"Minutos:\"))\n",
        "    seg = int(input(\"Segundos:\"))\n",
        "    print(\"Corresponde a\", Convertir_A_Segundos(hor, minu, seg), \"segundos.\")\n",
        "  elif opcion == 2:\n",
        "    segund = int(input(\"Segundos:\"))\n",
        "    hor, minu, seg = Covertir_A_HMS(segund)\n",
        "    print(\"Corresponde a\", hor,\":\",minu,\":\",seg)\n",
        "  elif opcion == 3:\n",
        "    break\n",
        "  else:\n",
        "    print(\"Opción incorrecta\")"
      ],
      "metadata": {
        "id": "1Nmk9-iS0gCg",
        "colab": {
          "base_uri": "https://localhost:8080/"
        },
        "outputId": "1e5a5479-e445-4156-b023-0093d09858c6"
      },
      "execution_count": 46,
      "outputs": [
        {
          "name": "stdout",
          "output_type": "stream",
          "text": [
            "1. Convertir a segundos\n",
            "2. Convertir a horas, minutos y segundos\n",
            "3. Salir\n",
            "1\n",
            "Horas:2\n",
            "Minutos:30\n",
            "Segundos:10\n",
            "Corresponde a 9010 segundos.\n",
            "1. Convertir a segundos\n",
            "2. Convertir a horas, minutos y segundos\n",
            "3. Salir\n",
            "3\n"
          ]
        }
      ]
    },
    {
      "cell_type": "markdown",
      "source": [
        "# Ejemplo 5\n",
        "\n",
        "- Función ValidarFecha: Recibe un día, mes y año correspondiente a una fecha y  devuelve si la fecha es correcta o no.\n",
        "Simplemente miramos si el día indicado es mayor que 1 y menor que los días del mes. Si introducimos un mes incorrecto, la función DiasDelMes devuelve 0 por lo tanto la fecha va a ser incorrecta.\n",
        "Parámetros de entrada: día, mes y año\n",
        "-  Dato devuelto: Valor lógico indicando si es correcta (Verdadero) o no (Falso)"
      ],
      "metadata": {
        "id": "8QeHRDNa1C3n"
      }
    },
    {
      "cell_type": "code",
      "source": [
        "#Ejemplo 5\n",
        "\n",
        "def ValidarFecha(day,month,year):\n",
        "#\tDefinir es válida Como Logico;\n",
        "\n",
        "  #Validar año\n",
        "  if year<1 or year>2022:   \n",
        "      print(\"Año inválido\")\n",
        "      return bool (False)    \n",
        "  if year>=1 or year<=2022:\n",
        "      print(\"Año válido\")\n",
        "    #Validar mes\n",
        "      if month < 1 or month>12: \n",
        "        print(\"Mes inválido\")\n",
        "        return(False)\n",
        "      elif month>=1 or month<=12: \n",
        "        print(\"Mes válido\")\n",
        "        #Enero, Marzo, Mayo, Julio, Agosto, Octubre y Diciembre con 31 días\n",
        "        if month==1 or month==3 or month==5 or month==7 or month==8 or month==10 or month==12: \n",
        "        #Día inválido si es menor a 1 y mayor a 31\n",
        "          if day<1 or day>31:  \n",
        "            print (\"Día inválido\",day)\n",
        "            return (False)\n",
        "        #Día válido si es mayor o igual a 1 y menor o igual a 31\n",
        "          elif day>=1 and day<=31:\n",
        "            print(\"Día válido\")\n",
        "            return (True)\n",
        "      #Abril, JUnio, Septiembre y Noviembre con 30 días\n",
        "        elif month==4 or month==6 or month==9 or month==11:\n",
        "        #Día inválido si es menor a 1 y mayor a 30\n",
        "          if day<1 or day>30:  \n",
        "            print (\"Día inválido\",day)\n",
        "            return (False)\n",
        "          #Día válido si es mayor o igual a 1 y menor o igual a 30\n",
        "          elif day>=1 and day<=30: \n",
        "            print(\"Día válido\")\n",
        "            return (True)\n",
        "        else:  \n",
        "        #Febrero, día inválido         \n",
        "          if day<1 or day>29:    \n",
        "            print (\"Día inválido\",day)\n",
        "            return (False)\n",
        "          elif day >= 1 or day<=28:  \n",
        "            print(\"Día válido\")  \n",
        "            return (True)\n",
        "\n",
        " # Solicitar por entrada la fecha pidiendo día, mes y año\n",
        "print(\"Ingresa día, mes y año con valores númericos enteros\")\n",
        "year = int(input(\"Ingresa tu año:\"))\n",
        "month= int(input(\"Ingresa tu mes:\"))\n",
        "day= int(input(\"Ingresa tu día:\"))\n",
        "\n",
        "#Llamando a la función\n",
        "resultado = ValidarFecha(day,month,year)  \n",
        "print (resultado)"
      ],
      "metadata": {
        "colab": {
          "base_uri": "https://localhost:8080/"
        },
        "id": "ZqJKlJ0HPW5M",
        "outputId": "2ae34cd3-1fcf-4b85-8f7a-44113f60a5ea"
      },
      "execution_count": 47,
      "outputs": [
        {
          "output_type": "stream",
          "name": "stdout",
          "text": [
            "Ingresa día, mes y año con valores númericos enteros\n",
            "Ingresa tu año:1993\n",
            "Ingresa tu mes:11\n",
            "Ingresa tu día:27\n",
            "Año válido\n",
            "Mes válido\n",
            "Día válido\n",
            "True\n"
          ]
        }
      ]
    },
    {
      "cell_type": "code",
      "source": [
        "#Ejemplo 5\n",
        "\n",
        "def ValidarFecha(day,month,year)\n",
        "#\tDefinir esvalida Como Logico;\n",
        "\tIf day>=1 or day>DiasDelMes(month,year) Entonces\n",
        "\t\tesvalida<-Falso;\n",
        "\tSiNo\n",
        "\t\tesvalida<-Verdadero;\n",
        "\tFinSi\n",
        "FinFuncion"
      ],
      "metadata": {
        "id": "ejA6sUme1bS2"
      },
      "execution_count": null,
      "outputs": []
    },
    {
      "cell_type": "markdown",
      "metadata": {
        "id": "w7DrerwS1zd_"
      },
      "source": [
        "## ¡A resolver el reto!\n",
        "\n",
        "Vamos a prodecer a crear una lista de diccionarios, esto es, un directorio de estudiantes de SKILLS FOR WOMEN IN TECH que participarán en una edición en línea.\n",
        "\n",
        "Cada estudiante debe tener los siguientes atributos:\n",
        "- Nombre <str>\n",
        "- Edad <int>\n",
        "- Temas <lista>\n",
        "- Menores de edad <bool>\n",
        "\n",
        "Puedes asignar los datos a mano o utilizar funciones aleatorias para llenar los campos."
      ]
    },
    {
      "cell_type": "code",
      "metadata": {
        "id": "SVynPZKD2RAm",
        "colab": {
          "base_uri": "https://localhost:8080/"
        },
        "outputId": "96608861-47ba-4a4b-f6a3-ac1af669acfc"
      },
      "source": [
        "# All your code goes here!!!\n",
        "\n",
        "print(\"Ingrese la información solicitada:\")\n",
        "\n",
        "Nombre = input(\"Nombre:\")\n",
        "Edad = int(input(\"Edad:\"))\n",
        "Temas = input(\"Temas:\")\n",
        "Menor = input(\"Menor de edad [s/n]:\")\n",
        "\n",
        "Padawan1= {\n",
        "    \"name\": Nombre,\n",
        "    \"age\": Edad,\n",
        "    \"tema\": Temas,\n",
        "    \"menor\": Menor\n",
        "}\n",
        "\n",
        "print(Padawan1)"
      ],
      "execution_count": 48,
      "outputs": [
        {
          "output_type": "stream",
          "name": "stdout",
          "text": [
            "Ingrese la información solicitada:\n",
            "Nombre:Bibiana\n",
            "Edad:27\n",
            "Temas:Python\n",
            "Menor de edad [s/n]:n\n",
            "{'name': 'Bibiana', 'age': 27, 'tema': 'Python', 'menor': 'n'}\n"
          ]
        }
      ]
    },
    {
      "cell_type": "markdown",
      "metadata": {
        "id": "efpB7jYb3hQj"
      },
      "source": [
        "--------\n",
        "\n",
        "> Contenido creado por **Jesús López**  2022. <br>\n",
        "> Contacto: [@jalopez_garcia](https://www.instagram.com/jalopez_garcia/) & [@jalopez_garcia](https://twitter.com/jalopez_garcia)"
      ]
    }
  ]
}