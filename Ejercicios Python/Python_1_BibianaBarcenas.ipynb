{
  "nbformat": 4,
  "nbformat_minor": 0,
  "metadata": {
    "colab": {
      "name": "Python 1_BibianaBarcenas.ipynb",
      "provenance": [],
      "collapsed_sections": []
    },
    "kernelspec": {
      "name": "python3",
      "display_name": "Python 3"
    },
    "language_info": {
      "name": "python"
    }
  },
  "cells": [
    {
      "cell_type": "markdown",
      "source": [
        "Crea una función que pueda sumar 2 números enteros.\n",
        "\n",
        "\n",
        "Prototipo de función:\n",
        "int sumar(int x, int y); Donde,\n",
        "\n",
        "x es el primer número entero.\n",
        "y es el segundo número entero.\n",
        "## Valor que regresa La suma de los números enteros de arriba\n",
        "\n",
        "\n",
        "Prueba de entrada\n",
        "x = 2 y = 3\n",
        "\n",
        "\n",
        "Prueba de salida\n",
        "5\n",
        "\n",
        "\n",
        "Explicación\n",
        "La suma de los 2 números enteros x & z se calcula como 2+3=5\n",
        "\n",
        "\n",
        "\n",
        "Una vez realizado el ejercicio crea un repositorio público, sube tu código y agrega tu repositorio aquí como prueba de avance\n",
        "\n"
      ],
      "metadata": {
        "id": "oGHc0hDKjwSn"
      }
    },
    {
      "cell_type": "code",
      "execution_count": 4,
      "metadata": {
        "colab": {
          "base_uri": "https://localhost:8080/"
        },
        "id": "AJctjS6-jsm2",
        "outputId": "9f90e068-038d-47cd-ce00-6a2311907ad9"
      },
      "outputs": [
        {
          "name": "stdout",
          "output_type": "stream",
          "text": [
            "Ingresa el 1er número: 5\n",
            "Ingresa el 1er número: 3\n"
          ]
        },
        {
          "output_type": "execute_result",
          "data": {
            "text/plain": [
              "8"
            ]
          },
          "metadata": {},
          "execution_count": 4
        }
      ],
      "source": [
        "x=int(input(\"Ingresa el 1er número: \"))\n",
        "y=int(input(\"Ingresa el 1er número: \"))\n",
        "\n",
        "def suma(x,y):\n",
        "  return (x+y)\n",
        "\n",
        "\n",
        "suma(x,y)"
      ]
    }
  ]
}